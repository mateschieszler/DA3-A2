{
 "cells": [
  {
   "cell_type": "code",
   "execution_count": 475,
   "metadata": {},
   "outputs": [],
   "source": [
    "import warnings\n",
    "warnings.filterwarnings('ignore')\n",
    "\n",
    "import pandas as pd\n",
    "import seaborn as sns\n",
    "import matplotlib.pyplot as plt\n",
    "from mizani.formatters import percent_format\n",
    "import os\n",
    "from plotnine import *\n",
    "import numpy as np\n",
    "import sys\n",
    "import numpy as np\n",
    "import statsmodels.api as sm\n",
    "import statsmodels.formula.api as smf\n",
    "from stargazer import stargazer\n",
    "from statsmodels.tools.eval_measures import mse,rmse\n",
    "import regex as re\n",
    "\n",
    "from sklearn.ensemble import RandomForestRegressor\n",
    "from sklearn.model_selection import GridSearchCV\n",
    "from sklearn.model_selection import RandomizedSearchCV\n",
    "from sklearn.impute import SimpleImputer\n",
    "from sklearn.inspection import permutation_importance\n",
    "from sklearn.inspection import PartialDependenceDisplay\n",
    "from sklearn.inspection import partial_dependence\n",
    "from sklearn.compose import ColumnTransformer\n",
    "from sklearn.pipeline import Pipeline\n",
    "from sklearn.preprocessing import OneHotEncoder\n",
    "from sklearn.metrics import mean_squared_error\n",
    "from patsy import dmatrices\n",
    "from sklearn.model_selection import train_test_split\n",
    "\n",
    "import math\n",
    "\n",
    "from sklearn.linear_model import ElasticNet\n",
    "from sklearn.linear_model import LinearRegression\n",
    "\n",
    "import ast"
   ]
  },
  {
   "cell_type": "code",
   "execution_count": 476,
   "metadata": {},
   "outputs": [],
   "source": [
    "# Current script and repository folder\n",
    "current_path = os.getcwd()\n",
    "repository_path = current_path"
   ]
  },
  {
   "cell_type": "code",
   "execution_count": 477,
   "metadata": {},
   "outputs": [],
   "source": [
    "# Add utils folder to sys path \n",
    "# Note: os.path.join() creates a string with the right syntax for defining a path for your operating sytem.\n",
    "sys.path.append(os.path.join(current_path, 'utils'))"
   ]
  },
  {
   "cell_type": "code",
   "execution_count": 478,
   "metadata": {},
   "outputs": [],
   "source": [
    "# Import the prewritten helper functions\n",
    "# We are only using the color palette in this notebook\n",
    "from py_helper_functions import *"
   ]
  },
  {
   "cell_type": "code",
   "execution_count": 479,
   "metadata": {},
   "outputs": [],
   "source": [
    "# Read the data\n",
    "#data = pd.read_csv(\"https://raw.githubusercontent.com/mateschieszler/data/main/airbnb/listings.csv\")\n",
    "#data.head()"
   ]
  },
  {
   "cell_type": "code",
   "execution_count": 480,
   "metadata": {},
   "outputs": [
    {
     "data": {
      "text/html": [
       "<div>\n",
       "<style scoped>\n",
       "    .dataframe tbody tr th:only-of-type {\n",
       "        vertical-align: middle;\n",
       "    }\n",
       "\n",
       "    .dataframe tbody tr th {\n",
       "        vertical-align: top;\n",
       "    }\n",
       "\n",
       "    .dataframe thead th {\n",
       "        text-align: right;\n",
       "    }\n",
       "</style>\n",
       "<table border=\"1\" class=\"dataframe\">\n",
       "  <thead>\n",
       "    <tr style=\"text-align: right;\">\n",
       "      <th></th>\n",
       "      <th>id</th>\n",
       "      <th>listing_url</th>\n",
       "      <th>scrape_id</th>\n",
       "      <th>last_scraped</th>\n",
       "      <th>source</th>\n",
       "      <th>name</th>\n",
       "      <th>description</th>\n",
       "      <th>neighborhood_overview</th>\n",
       "      <th>picture_url</th>\n",
       "      <th>host_id</th>\n",
       "      <th>...</th>\n",
       "      <th>review_scores_communication</th>\n",
       "      <th>review_scores_location</th>\n",
       "      <th>review_scores_value</th>\n",
       "      <th>license</th>\n",
       "      <th>instant_bookable</th>\n",
       "      <th>calculated_host_listings_count</th>\n",
       "      <th>calculated_host_listings_count_entire_homes</th>\n",
       "      <th>calculated_host_listings_count_private_rooms</th>\n",
       "      <th>calculated_host_listings_count_shared_rooms</th>\n",
       "      <th>reviews_per_month</th>\n",
       "    </tr>\n",
       "  </thead>\n",
       "  <tbody>\n",
       "    <tr>\n",
       "      <th>0</th>\n",
       "      <td>6400</td>\n",
       "      <td>https://www.airbnb.com/rooms/6400</td>\n",
       "      <td>20230913045258</td>\n",
       "      <td>2023-09-14</td>\n",
       "      <td>city scrape</td>\n",
       "      <td>Rental unit in Milan · ★4.89 · 3 bedrooms · 1 ...</td>\n",
       "      <td>Enjoy your stay at The Studio, a light-filled ...</td>\n",
       "      <td>The neighborhood is quiet and very well connec...</td>\n",
       "      <td>https://a0.muscache.com/pictures/474737/5955ba...</td>\n",
       "      <td>13822</td>\n",
       "      <td>...</td>\n",
       "      <td>5.00</td>\n",
       "      <td>4.56</td>\n",
       "      <td>4.67</td>\n",
       "      <td>NaN</td>\n",
       "      <td>f</td>\n",
       "      <td>1</td>\n",
       "      <td>0</td>\n",
       "      <td>1</td>\n",
       "      <td>0</td>\n",
       "      <td>0.07</td>\n",
       "    </tr>\n",
       "    <tr>\n",
       "      <th>1</th>\n",
       "      <td>23986</td>\n",
       "      <td>https://www.airbnb.com/rooms/23986</td>\n",
       "      <td>20230913045258</td>\n",
       "      <td>2023-09-14</td>\n",
       "      <td>city scrape</td>\n",
       "      <td>Rental unit in Milan · ★4.64 · 1 bedroom · 1 b...</td>\n",
       "      <td>I look forward to welcoming you in my flat; it...</td>\n",
       "      <td>NaN</td>\n",
       "      <td>https://a0.muscache.com/pictures/623d63f8-56cf...</td>\n",
       "      <td>95941</td>\n",
       "      <td>...</td>\n",
       "      <td>4.73</td>\n",
       "      <td>4.69</td>\n",
       "      <td>4.46</td>\n",
       "      <td>NaN</td>\n",
       "      <td>f</td>\n",
       "      <td>1</td>\n",
       "      <td>1</td>\n",
       "      <td>0</td>\n",
       "      <td>0</td>\n",
       "      <td>0.19</td>\n",
       "    </tr>\n",
       "    <tr>\n",
       "      <th>2</th>\n",
       "      <td>1734055</td>\n",
       "      <td>https://www.airbnb.com/rooms/1734055</td>\n",
       "      <td>20230913045258</td>\n",
       "      <td>2023-09-14</td>\n",
       "      <td>city scrape</td>\n",
       "      <td>Rental unit in Milan · ★4.58 · 1 bedroom · 1 b...</td>\n",
       "      <td>A cozy penthouse in China Town, just a few ste...</td>\n",
       "      <td>Milan’s Chinatown, known in Italian as Quartie...</td>\n",
       "      <td>https://a0.muscache.com/pictures/d1a8b813-f38c...</td>\n",
       "      <td>9134504</td>\n",
       "      <td>...</td>\n",
       "      <td>5.00</td>\n",
       "      <td>4.74</td>\n",
       "      <td>4.53</td>\n",
       "      <td>NaN</td>\n",
       "      <td>f</td>\n",
       "      <td>1</td>\n",
       "      <td>1</td>\n",
       "      <td>0</td>\n",
       "      <td>0</td>\n",
       "      <td>0.20</td>\n",
       "    </tr>\n",
       "    <tr>\n",
       "      <th>3</th>\n",
       "      <td>189441</td>\n",
       "      <td>https://www.airbnb.com/rooms/189441</td>\n",
       "      <td>20230913045258</td>\n",
       "      <td>2023-09-13</td>\n",
       "      <td>city scrape</td>\n",
       "      <td>Loft in Milano · ★4.70 · 1 bedroom · 1 bed · 1...</td>\n",
       "      <td>&lt;b&gt;The space&lt;/b&gt;&lt;br /&gt;A lovely loft close to c...</td>\n",
       "      <td>NaN</td>\n",
       "      <td>https://a0.muscache.com/pictures/2768235/ce578...</td>\n",
       "      <td>913914</td>\n",
       "      <td>...</td>\n",
       "      <td>4.86</td>\n",
       "      <td>4.25</td>\n",
       "      <td>4.60</td>\n",
       "      <td>015146-LNI-00630</td>\n",
       "      <td>f</td>\n",
       "      <td>1</td>\n",
       "      <td>0</td>\n",
       "      <td>1</td>\n",
       "      <td>0</td>\n",
       "      <td>1.00</td>\n",
       "    </tr>\n",
       "    <tr>\n",
       "      <th>4</th>\n",
       "      <td>2192436</td>\n",
       "      <td>https://www.airbnb.com/rooms/2192436</td>\n",
       "      <td>20230913045258</td>\n",
       "      <td>2023-09-14</td>\n",
       "      <td>city scrape</td>\n",
       "      <td>Rental unit in Milan · ★4.85 · 1 bedroom · 1 b...</td>\n",
       "      <td>Benvenuti nel nostro bel  bilocale,  situato n...</td>\n",
       "      <td>Il quartiere appare caldo, accogliente, vitale...</td>\n",
       "      <td>https://a0.muscache.com/pictures/ad16d0e0-9ac1...</td>\n",
       "      <td>11180301</td>\n",
       "      <td>...</td>\n",
       "      <td>4.95</td>\n",
       "      <td>4.79</td>\n",
       "      <td>4.76</td>\n",
       "      <td>NaN</td>\n",
       "      <td>t</td>\n",
       "      <td>1</td>\n",
       "      <td>1</td>\n",
       "      <td>0</td>\n",
       "      <td>0</td>\n",
       "      <td>1.47</td>\n",
       "    </tr>\n",
       "  </tbody>\n",
       "</table>\n",
       "<p>5 rows × 75 columns</p>\n",
       "</div>"
      ],
      "text/plain": [
       "        id                           listing_url       scrape_id last_scraped  \\\n",
       "0     6400     https://www.airbnb.com/rooms/6400  20230913045258   2023-09-14   \n",
       "1    23986    https://www.airbnb.com/rooms/23986  20230913045258   2023-09-14   \n",
       "2  1734055  https://www.airbnb.com/rooms/1734055  20230913045258   2023-09-14   \n",
       "3   189441   https://www.airbnb.com/rooms/189441  20230913045258   2023-09-13   \n",
       "4  2192436  https://www.airbnb.com/rooms/2192436  20230913045258   2023-09-14   \n",
       "\n",
       "        source                                               name  \\\n",
       "0  city scrape  Rental unit in Milan · ★4.89 · 3 bedrooms · 1 ...   \n",
       "1  city scrape  Rental unit in Milan · ★4.64 · 1 bedroom · 1 b...   \n",
       "2  city scrape  Rental unit in Milan · ★4.58 · 1 bedroom · 1 b...   \n",
       "3  city scrape  Loft in Milano · ★4.70 · 1 bedroom · 1 bed · 1...   \n",
       "4  city scrape  Rental unit in Milan · ★4.85 · 1 bedroom · 1 b...   \n",
       "\n",
       "                                         description  \\\n",
       "0  Enjoy your stay at The Studio, a light-filled ...   \n",
       "1  I look forward to welcoming you in my flat; it...   \n",
       "2  A cozy penthouse in China Town, just a few ste...   \n",
       "3  <b>The space</b><br />A lovely loft close to c...   \n",
       "4  Benvenuti nel nostro bel  bilocale,  situato n...   \n",
       "\n",
       "                               neighborhood_overview  \\\n",
       "0  The neighborhood is quiet and very well connec...   \n",
       "1                                                NaN   \n",
       "2  Milan’s Chinatown, known in Italian as Quartie...   \n",
       "3                                                NaN   \n",
       "4  Il quartiere appare caldo, accogliente, vitale...   \n",
       "\n",
       "                                         picture_url   host_id  ...  \\\n",
       "0  https://a0.muscache.com/pictures/474737/5955ba...     13822  ...   \n",
       "1  https://a0.muscache.com/pictures/623d63f8-56cf...     95941  ...   \n",
       "2  https://a0.muscache.com/pictures/d1a8b813-f38c...   9134504  ...   \n",
       "3  https://a0.muscache.com/pictures/2768235/ce578...    913914  ...   \n",
       "4  https://a0.muscache.com/pictures/ad16d0e0-9ac1...  11180301  ...   \n",
       "\n",
       "  review_scores_communication review_scores_location review_scores_value  \\\n",
       "0                        5.00                   4.56                4.67   \n",
       "1                        4.73                   4.69                4.46   \n",
       "2                        5.00                   4.74                4.53   \n",
       "3                        4.86                   4.25                4.60   \n",
       "4                        4.95                   4.79                4.76   \n",
       "\n",
       "            license instant_bookable calculated_host_listings_count  \\\n",
       "0               NaN                f                              1   \n",
       "1               NaN                f                              1   \n",
       "2               NaN                f                              1   \n",
       "3  015146-LNI-00630                f                              1   \n",
       "4               NaN                t                              1   \n",
       "\n",
       "  calculated_host_listings_count_entire_homes  \\\n",
       "0                                           0   \n",
       "1                                           1   \n",
       "2                                           1   \n",
       "3                                           0   \n",
       "4                                           1   \n",
       "\n",
       "  calculated_host_listings_count_private_rooms  \\\n",
       "0                                            1   \n",
       "1                                            0   \n",
       "2                                            0   \n",
       "3                                            1   \n",
       "4                                            0   \n",
       "\n",
       "  calculated_host_listings_count_shared_rooms reviews_per_month  \n",
       "0                                           0              0.07  \n",
       "1                                           0              0.19  \n",
       "2                                           0              0.20  \n",
       "3                                           0              1.00  \n",
       "4                                           0              1.47  \n",
       "\n",
       "[5 rows x 75 columns]"
      ]
     },
     "execution_count": 480,
     "metadata": {},
     "output_type": "execute_result"
    }
   ],
   "source": [
    "# Read the data\n",
    "data = pd.read_csv(\"listings.csv\")\n",
    "data.head()"
   ]
  },
  {
   "cell_type": "code",
   "execution_count": 481,
   "metadata": {},
   "outputs": [
    {
     "data": {
      "text/plain": [
       "Index(['id', 'listing_url', 'scrape_id', 'last_scraped', 'source', 'name',\n",
       "       'description', 'neighborhood_overview', 'picture_url', 'host_id',\n",
       "       'host_url', 'host_name', 'host_since', 'host_location', 'host_about',\n",
       "       'host_response_time', 'host_response_rate', 'host_acceptance_rate',\n",
       "       'host_is_superhost', 'host_thumbnail_url', 'host_picture_url',\n",
       "       'host_neighbourhood', 'host_listings_count',\n",
       "       'host_total_listings_count', 'host_verifications',\n",
       "       'host_has_profile_pic', 'host_identity_verified', 'neighbourhood',\n",
       "       'neighbourhood_cleansed', 'neighbourhood_group_cleansed', 'latitude',\n",
       "       'longitude', 'property_type', 'room_type', 'accommodates', 'bathrooms',\n",
       "       'bathrooms_text', 'bedrooms', 'beds', 'amenities', 'price',\n",
       "       'minimum_nights', 'maximum_nights', 'minimum_minimum_nights',\n",
       "       'maximum_minimum_nights', 'minimum_maximum_nights',\n",
       "       'maximum_maximum_nights', 'minimum_nights_avg_ntm',\n",
       "       'maximum_nights_avg_ntm', 'calendar_updated', 'has_availability',\n",
       "       'availability_30', 'availability_60', 'availability_90',\n",
       "       'availability_365', 'calendar_last_scraped', 'number_of_reviews',\n",
       "       'number_of_reviews_ltm', 'number_of_reviews_l30d', 'first_review',\n",
       "       'last_review', 'review_scores_rating', 'review_scores_accuracy',\n",
       "       'review_scores_cleanliness', 'review_scores_checkin',\n",
       "       'review_scores_communication', 'review_scores_location',\n",
       "       'review_scores_value', 'license', 'instant_bookable',\n",
       "       'calculated_host_listings_count',\n",
       "       'calculated_host_listings_count_entire_homes',\n",
       "       'calculated_host_listings_count_private_rooms',\n",
       "       'calculated_host_listings_count_shared_rooms', 'reviews_per_month'],\n",
       "      dtype='object')"
      ]
     },
     "execution_count": 481,
     "metadata": {},
     "output_type": "execute_result"
    }
   ],
   "source": [
    "data.columns"
   ]
  },
  {
   "cell_type": "code",
   "execution_count": 482,
   "metadata": {},
   "outputs": [
    {
     "name": "stdout",
     "output_type": "stream",
     "text": [
      "<class 'pandas.core.frame.DataFrame'>\n",
      "RangeIndex: 24177 entries, 0 to 24176\n",
      "Data columns (total 75 columns):\n",
      " #   Column                                        Non-Null Count  Dtype  \n",
      "---  ------                                        --------------  -----  \n",
      " 0   id                                            24177 non-null  int64  \n",
      " 1   listing_url                                   24177 non-null  object \n",
      " 2   scrape_id                                     24177 non-null  int64  \n",
      " 3   last_scraped                                  24177 non-null  object \n",
      " 4   source                                        24177 non-null  object \n",
      " 5   name                                          24177 non-null  object \n",
      " 6   description                                   23761 non-null  object \n",
      " 7   neighborhood_overview                         13101 non-null  object \n",
      " 8   picture_url                                   24177 non-null  object \n",
      " 9   host_id                                       24177 non-null  int64  \n",
      " 10  host_url                                      24177 non-null  object \n",
      " 11  host_name                                     24177 non-null  object \n",
      " 12  host_since                                    24177 non-null  object \n",
      " 13  host_location                                 20007 non-null  object \n",
      " 14  host_about                                    12619 non-null  object \n",
      " 15  host_response_time                            17997 non-null  object \n",
      " 16  host_response_rate                            17997 non-null  object \n",
      " 17  host_acceptance_rate                          19855 non-null  object \n",
      " 18  host_is_superhost                             23650 non-null  object \n",
      " 19  host_thumbnail_url                            24177 non-null  object \n",
      " 20  host_picture_url                              24177 non-null  object \n",
      " 21  host_neighbourhood                            11238 non-null  object \n",
      " 22  host_listings_count                           24177 non-null  int64  \n",
      " 23  host_total_listings_count                     24177 non-null  int64  \n",
      " 24  host_verifications                            24177 non-null  object \n",
      " 25  host_has_profile_pic                          24177 non-null  object \n",
      " 26  host_identity_verified                        24177 non-null  object \n",
      " 27  neighbourhood                                 13101 non-null  object \n",
      " 28  neighbourhood_cleansed                        24177 non-null  object \n",
      " 29  neighbourhood_group_cleansed                  0 non-null      float64\n",
      " 30  latitude                                      24177 non-null  float64\n",
      " 31  longitude                                     24177 non-null  float64\n",
      " 32  property_type                                 24177 non-null  object \n",
      " 33  room_type                                     24177 non-null  object \n",
      " 34  accommodates                                  24177 non-null  int64  \n",
      " 35  bathrooms                                     0 non-null      float64\n",
      " 36  bathrooms_text                                24169 non-null  object \n",
      " 37  bedrooms                                      18747 non-null  float64\n",
      " 38  beds                                          23888 non-null  float64\n",
      " 39  amenities                                     24177 non-null  object \n",
      " 40  price                                         24177 non-null  object \n",
      " 41  minimum_nights                                24177 non-null  int64  \n",
      " 42  maximum_nights                                24177 non-null  int64  \n",
      " 43  minimum_minimum_nights                        24177 non-null  int64  \n",
      " 44  maximum_minimum_nights                        24177 non-null  int64  \n",
      " 45  minimum_maximum_nights                        24177 non-null  int64  \n",
      " 46  maximum_maximum_nights                        24177 non-null  int64  \n",
      " 47  minimum_nights_avg_ntm                        24177 non-null  float64\n",
      " 48  maximum_nights_avg_ntm                        24177 non-null  float64\n",
      " 49  calendar_updated                              0 non-null      float64\n",
      " 50  has_availability                              24177 non-null  object \n",
      " 51  availability_30                               24177 non-null  int64  \n",
      " 52  availability_60                               24177 non-null  int64  \n",
      " 53  availability_90                               24177 non-null  int64  \n",
      " 54  availability_365                              24177 non-null  int64  \n",
      " 55  calendar_last_scraped                         24177 non-null  object \n",
      " 56  number_of_reviews                             24177 non-null  int64  \n",
      " 57  number_of_reviews_ltm                         24177 non-null  int64  \n",
      " 58  number_of_reviews_l30d                        24177 non-null  int64  \n",
      " 59  first_review                                  19396 non-null  object \n",
      " 60  last_review                                   19396 non-null  object \n",
      " 61  review_scores_rating                          19396 non-null  float64\n",
      " 62  review_scores_accuracy                        19245 non-null  float64\n",
      " 63  review_scores_cleanliness                     19243 non-null  float64\n",
      " 64  review_scores_checkin                         19243 non-null  float64\n",
      " 65  review_scores_communication                   19244 non-null  float64\n",
      " 66  review_scores_location                        19242 non-null  float64\n",
      " 67  review_scores_value                           19240 non-null  float64\n",
      " 68  license                                       5615 non-null   object \n",
      " 69  instant_bookable                              24177 non-null  object \n",
      " 70  calculated_host_listings_count                24177 non-null  int64  \n",
      " 71  calculated_host_listings_count_entire_homes   24177 non-null  int64  \n",
      " 72  calculated_host_listings_count_private_rooms  24177 non-null  int64  \n",
      " 73  calculated_host_listings_count_shared_rooms   24177 non-null  int64  \n",
      " 74  reviews_per_month                             19396 non-null  float64\n",
      "dtypes: float64(17), int64(23), object(35)\n",
      "memory usage: 13.8+ MB\n"
     ]
    }
   ],
   "source": [
    "data.info()"
   ]
  },
  {
   "cell_type": "code",
   "execution_count": 483,
   "metadata": {},
   "outputs": [
    {
     "data": {
      "text/plain": [
       "\" done in a later step\\n# drop some unnecessary columns\\ndrop = ['listing_url', 'scrape_id', 'last_scraped', 'source', 'name', 'description', 'neighborhood_overview', 'picture_url', 'host_id', 'host_url',\\n        'host_name', 'host_since', 'host_location', 'host_about', 'host_thumbnail_url', 'host_picture_url', 'host_neighbourhood', 'host_verifications',\\n        'neighbourhood_group_cleansed', 'maximum_nights', 'minimum_minimum_nights', 'maximum_minimum_nights', 'minimum_maximum_nights', 'maximum_maximum_nights',\\n        'minimum_nights_avg_ntm', 'maximum_nights_avg_ntm', 'calendar_last_scraped', 'first_review', 'last_review'\\n       ]\\n\\ndata = data.drop(columns=drop)\\n\""
      ]
     },
     "execution_count": 483,
     "metadata": {},
     "output_type": "execute_result"
    }
   ],
   "source": [
    "\"\"\" done in a later step\n",
    "# drop some unnecessary columns\n",
    "drop = ['listing_url', 'scrape_id', 'last_scraped', 'source', 'name', 'description', 'neighborhood_overview', 'picture_url', 'host_id', 'host_url',\n",
    "        'host_name', 'host_since', 'host_location', 'host_about', 'host_thumbnail_url', 'host_picture_url', 'host_neighbourhood', 'host_verifications',\n",
    "        'neighbourhood_group_cleansed', 'maximum_nights', 'minimum_minimum_nights', 'maximum_minimum_nights', 'minimum_maximum_nights', 'maximum_maximum_nights',\n",
    "        'minimum_nights_avg_ntm', 'maximum_nights_avg_ntm', 'calendar_last_scraped', 'first_review', 'last_review'\n",
    "       ]\n",
    "\n",
    "data = data.drop(columns=drop)\n",
    "\"\"\"\n"
   ]
  },
  {
   "cell_type": "code",
   "execution_count": 484,
   "metadata": {},
   "outputs": [
    {
     "data": {
      "text/plain": [
       "Entire rental unit                    12985\n",
       "Entire condo                           5009\n",
       "Private room in rental unit            2484\n",
       "Private room in condo                   973\n",
       "Entire loft                             821\n",
       "Entire home                             402\n",
       "Entire serviced apartment               239\n",
       "Private room in home                    176\n",
       "Shared room in rental unit              169\n",
       "Private room in bed and breakfast       164\n",
       "Entire vacation home                    152\n",
       "Private room in loft                     84\n",
       "Room in hotel                            55\n",
       "Room in boutique hotel                   48\n",
       "Shared room in condo                     39\n",
       "Private room in villa                    31\n",
       "Shared room in hostel                    30\n",
       "Tiny home                                25\n",
       "Private room in vacation home            20\n",
       "Entire townhouse                         19\n",
       "Private room in serviced apartment       19\n",
       "Private room in townhouse                19\n",
       "Entire villa                             18\n",
       "Entire place                             18\n",
       "Private room in guest suite              18\n",
       "Entire guest suite                       18\n",
       "Private room in hostel                   17\n",
       "Private room in casa particular          16\n",
       "Room in bed and breakfast                12\n",
       "Private room                             12\n",
       "Shared room in home                      10\n",
       "Shared room in loft                       9\n",
       "Room in aparthotel                        9\n",
       "Private room in tiny home                 7\n",
       "Shared room in bed and breakfast          6\n",
       "Room in hostel                            6\n",
       "Casa particular                           5\n",
       "Camper/RV                                 5\n",
       "Private room in guesthouse                4\n",
       "Entire guesthouse                         4\n",
       "Private room in farm stay                 3\n",
       "Entire home/apt                           3\n",
       "Shared room in tiny home                  2\n",
       "Room in serviced apartment                2\n",
       "Entire chalet                             1\n",
       "Island                                    1\n",
       "Private room in nature lodge              1\n",
       "Dome                                      1\n",
       "Private room in cave                      1\n",
       "Private room in camper/rv                 1\n",
       "Boat                                      1\n",
       "Barn                                      1\n",
       "Private room in cottage                   1\n",
       "Shared room in guesthouse                 1\n",
       "Name: property_type, dtype: int64"
      ]
     },
     "execution_count": 484,
     "metadata": {},
     "output_type": "execute_result"
    }
   ],
   "source": [
    "data[\"property_type\"].value_counts()"
   ]
  },
  {
   "cell_type": "code",
   "execution_count": 485,
   "metadata": {},
   "outputs": [
    {
     "data": {
      "text/plain": [
       "Entire home/apt    19732\n",
       "Private room        4151\n",
       "Shared room          266\n",
       "Hotel room            28\n",
       "Name: room_type, dtype: int64"
      ]
     },
     "execution_count": 485,
     "metadata": {},
     "output_type": "execute_result"
    }
   ],
   "source": [
    "data[\"room_type\"].value_counts()"
   ]
  },
  {
   "cell_type": "code",
   "execution_count": 486,
   "metadata": {},
   "outputs": [],
   "source": [
    "# Rename room type because it is too long\n",
    "data= data.loc[data.property_type.isin([\"Entire rental unit\", \"Entire condo\", \"Private room in rental unit\", \"Private room in condo\", \"Entire loft\",\n",
    "                                        \"Entire home\", \"Private room in home\", \"Shared room in rental unit\"])]"
   ]
  },
  {
   "cell_type": "code",
   "execution_count": 487,
   "metadata": {},
   "outputs": [],
   "source": [
    "## data.property_type = [x if x = \"Townhouse\" else x for x in data.property_type]\n",
    "# no filter yet"
   ]
  },
  {
   "cell_type": "code",
   "execution_count": 488,
   "metadata": {},
   "outputs": [],
   "source": [
    "data[\"f_property_type\"] = data[\"property_type\"].astype(\"category\")"
   ]
  },
  {
   "cell_type": "code",
   "execution_count": 489,
   "metadata": {},
   "outputs": [
    {
     "data": {
      "text/plain": [
       "Entire home/apt    19217\n",
       "Private room        3633\n",
       "Shared room          169\n",
       "Name: room_type, dtype: int64"
      ]
     },
     "execution_count": 489,
     "metadata": {},
     "output_type": "execute_result"
    }
   ],
   "source": [
    "data['room_type'].value_counts()"
   ]
  },
  {
   "cell_type": "code",
   "execution_count": 490,
   "metadata": {},
   "outputs": [],
   "source": [
    "data[\"f_room_type\"] = data[\"room_type\"].astype(\"category\")\n",
    "data[\"f_room_type2\"] = (\n",
    "    data[\"f_room_type\"]\n",
    "    .replace(\n",
    "        {\n",
    "            \"Entire home/apt\": \"Entire/Apt\",\n",
    "            \"Private room\": \"Private\",\n",
    "            \"Shared room\": \"Shared\",\n",
    "        }\n",
    "    )\n",
    "    .astype(\"category\")\n",
    ")"
   ]
  },
  {
   "cell_type": "code",
   "execution_count": 491,
   "metadata": {},
   "outputs": [
    {
     "data": {
      "text/plain": [
       "BUENOS AIRES - VENEZIA    1793\n",
       "DUOMO                     1148\n",
       "SARPI                     1037\n",
       "NAVIGLI                    987\n",
       "LORETO                     978\n",
       "                          ... \n",
       "CHIARAVALLE                  4\n",
       "PARCO AGRICOLO SUD           3\n",
       "PARCO NORD                   2\n",
       "QUINTOSOLE                   2\n",
       "RONCHETTO DELLE RANE         1\n",
       "Name: neighbourhood_cleansed, Length: 86, dtype: int64"
      ]
     },
     "execution_count": 491,
     "metadata": {},
     "output_type": "execute_result"
    }
   ],
   "source": [
    "data[\"neighbourhood_cleansed\"].value_counts()"
   ]
  },
  {
   "cell_type": "code",
   "execution_count": 492,
   "metadata": {},
   "outputs": [],
   "source": [
    "data[\"f_neighbourhood_cleansed\"] = data[\"neighbourhood_cleansed\"].astype(\"category\")"
   ]
  },
  {
   "cell_type": "code",
   "execution_count": 493,
   "metadata": {},
   "outputs": [
    {
     "data": {
      "text/plain": [
       "count     17122\n",
       "unique       78\n",
       "top        100%\n",
       "freq      12237\n",
       "Name: host_response_rate, dtype: object"
      ]
     },
     "execution_count": 493,
     "metadata": {},
     "output_type": "execute_result"
    }
   ],
   "source": [
    "data['host_response_rate'].describe()"
   ]
  },
  {
   "cell_type": "code",
   "execution_count": 494,
   "metadata": {},
   "outputs": [],
   "source": [
    "# formatting columns with percentages\n",
    "for perc in [\"host_response_rate\", \"host_acceptance_rate\"]:\n",
    "    data[perc] = data[perc].replace(\"%\", \"\", regex=True)\n",
    "    data[perc] = pd.to_numeric(data[perc], errors=\"coerce\")\n",
    "\n",
    "data[\"p_host_response_rate\"] = data[\"host_response_rate\"]\n",
    "data[\"p_host_acceptance_rate\"] = data[\"host_acceptance_rate\"]"
   ]
  },
  {
   "cell_type": "code",
   "execution_count": 495,
   "metadata": {},
   "outputs": [
    {
     "data": {
      "text/plain": [
       "count    17122.000000\n",
       "mean        94.368532\n",
       "std         17.150111\n",
       "min          0.000000\n",
       "25%         99.000000\n",
       "50%        100.000000\n",
       "75%        100.000000\n",
       "max        100.000000\n",
       "Name: p_host_response_rate, dtype: float64"
      ]
     },
     "execution_count": 495,
     "metadata": {},
     "output_type": "execute_result"
    }
   ],
   "source": [
    "data['p_host_response_rate'].describe()\n"
   ]
  },
  {
   "cell_type": "code",
   "execution_count": 496,
   "metadata": {},
   "outputs": [
    {
     "name": "stdout",
     "output_type": "stream",
     "text": [
      "<class 'pandas.core.frame.DataFrame'>\n",
      "Int64Index: 23019 entries, 0 to 24176\n",
      "Data columns (total 81 columns):\n",
      " #   Column                                        Non-Null Count  Dtype   \n",
      "---  ------                                        --------------  -----   \n",
      " 0   id                                            23019 non-null  int64   \n",
      " 1   listing_url                                   23019 non-null  object  \n",
      " 2   scrape_id                                     23019 non-null  int64   \n",
      " 3   last_scraped                                  23019 non-null  object  \n",
      " 4   source                                        23019 non-null  object  \n",
      " 5   name                                          23019 non-null  object  \n",
      " 6   description                                   22630 non-null  object  \n",
      " 7   neighborhood_overview                         12437 non-null  object  \n",
      " 8   picture_url                                   23019 non-null  object  \n",
      " 9   host_id                                       23019 non-null  int64   \n",
      " 10  host_url                                      23019 non-null  object  \n",
      " 11  host_name                                     23019 non-null  object  \n",
      " 12  host_since                                    23019 non-null  object  \n",
      " 13  host_location                                 19098 non-null  object  \n",
      " 14  host_about                                    11954 non-null  object  \n",
      " 15  host_response_time                            17122 non-null  object  \n",
      " 16  host_response_rate                            17122 non-null  float64 \n",
      " 17  host_acceptance_rate                          18873 non-null  float64 \n",
      " 18  host_is_superhost                             22507 non-null  object  \n",
      " 19  host_thumbnail_url                            23019 non-null  object  \n",
      " 20  host_picture_url                              23019 non-null  object  \n",
      " 21  host_neighbourhood                            10722 non-null  object  \n",
      " 22  host_listings_count                           23019 non-null  int64   \n",
      " 23  host_total_listings_count                     23019 non-null  int64   \n",
      " 24  host_verifications                            23019 non-null  object  \n",
      " 25  host_has_profile_pic                          23019 non-null  object  \n",
      " 26  host_identity_verified                        23019 non-null  object  \n",
      " 27  neighbourhood                                 12437 non-null  object  \n",
      " 28  neighbourhood_cleansed                        23019 non-null  object  \n",
      " 29  neighbourhood_group_cleansed                  0 non-null      float64 \n",
      " 30  latitude                                      23019 non-null  float64 \n",
      " 31  longitude                                     23019 non-null  float64 \n",
      " 32  property_type                                 23019 non-null  object  \n",
      " 33  room_type                                     23019 non-null  object  \n",
      " 34  accommodates                                  23019 non-null  int64   \n",
      " 35  bathrooms                                     0 non-null      float64 \n",
      " 36  bathrooms_text                                23013 non-null  object  \n",
      " 37  bedrooms                                      17994 non-null  float64 \n",
      " 38  beds                                          22754 non-null  float64 \n",
      " 39  amenities                                     23019 non-null  object  \n",
      " 40  price                                         23019 non-null  object  \n",
      " 41  minimum_nights                                23019 non-null  int64   \n",
      " 42  maximum_nights                                23019 non-null  int64   \n",
      " 43  minimum_minimum_nights                        23019 non-null  int64   \n",
      " 44  maximum_minimum_nights                        23019 non-null  int64   \n",
      " 45  minimum_maximum_nights                        23019 non-null  int64   \n",
      " 46  maximum_maximum_nights                        23019 non-null  int64   \n",
      " 47  minimum_nights_avg_ntm                        23019 non-null  float64 \n",
      " 48  maximum_nights_avg_ntm                        23019 non-null  float64 \n",
      " 49  calendar_updated                              0 non-null      float64 \n",
      " 50  has_availability                              23019 non-null  object  \n",
      " 51  availability_30                               23019 non-null  int64   \n",
      " 52  availability_60                               23019 non-null  int64   \n",
      " 53  availability_90                               23019 non-null  int64   \n",
      " 54  availability_365                              23019 non-null  int64   \n",
      " 55  calendar_last_scraped                         23019 non-null  object  \n",
      " 56  number_of_reviews                             23019 non-null  int64   \n",
      " 57  number_of_reviews_ltm                         23019 non-null  int64   \n",
      " 58  number_of_reviews_l30d                        23019 non-null  int64   \n",
      " 59  first_review                                  18479 non-null  object  \n",
      " 60  last_review                                   18479 non-null  object  \n",
      " 61  review_scores_rating                          18479 non-null  float64 \n",
      " 62  review_scores_accuracy                        18335 non-null  float64 \n",
      " 63  review_scores_cleanliness                     18333 non-null  float64 \n",
      " 64  review_scores_checkin                         18333 non-null  float64 \n",
      " 65  review_scores_communication                   18334 non-null  float64 \n",
      " 66  review_scores_location                        18332 non-null  float64 \n",
      " 67  review_scores_value                           18330 non-null  float64 \n",
      " 68  license                                       5363 non-null   object  \n",
      " 69  instant_bookable                              23019 non-null  object  \n",
      " 70  calculated_host_listings_count                23019 non-null  int64   \n",
      " 71  calculated_host_listings_count_entire_homes   23019 non-null  int64   \n",
      " 72  calculated_host_listings_count_private_rooms  23019 non-null  int64   \n",
      " 73  calculated_host_listings_count_shared_rooms   23019 non-null  int64   \n",
      " 74  reviews_per_month                             18479 non-null  float64 \n",
      " 75  f_property_type                               23019 non-null  category\n",
      " 76  f_room_type                                   23019 non-null  category\n",
      " 77  f_room_type2                                  23019 non-null  category\n",
      " 78  f_neighbourhood_cleansed                      23019 non-null  category\n",
      " 79  p_host_response_rate                          17122 non-null  float64 \n",
      " 80  p_host_acceptance_rate                        18873 non-null  float64 \n",
      "dtypes: category(4), float64(21), int64(23), object(33)\n",
      "memory usage: 13.8+ MB\n"
     ]
    }
   ],
   "source": [
    "data.info()"
   ]
  },
  {
   "cell_type": "code",
   "execution_count": 497,
   "metadata": {},
   "outputs": [
    {
     "data": {
      "text/plain": [
       "'\\n\\n 0   id                                            24177 non-null  int64 - no need \\n 1   listing_url                                   24177 non-null  object - mo nee, drop\\n 2   scrape_id                                     24177 non-null  int64  - no need, drop\\n 3   last_scraped                                  24177 non-null  object - no need\\n 4   source                                        24177 non-null  object - no need, drop\\n 5   name                                          24177 non-null  object - no need\\n 6   description                                   23761 non-null  object - no need\\n 7   neighborhood_overview                         13101 non-null  object - \\n 8   picture_url                                   24177 non-null  object \\n 9   host_id                                       24177 non-null  int64  \\n 10  host_url                                      24177 non-null  object \\n 11  host_name                                     24177 non-null  object \\n 12  host_since                                    24177 non-null  object \\n 13  host_location                                 20007 non-null  object \\n 14  host_about                                    12619 non-null  object \\n 15  host_response_time                            17997 non-null  object \\n 16  host_response_rate                            17997 non-null  object \\n 17  host_acceptance_rate                          19855 non-null  object \\n 18  host_is_superhost                             23650 non-null  object \\n 19  host_thumbnail_url                            24177 non-null  object \\n 20  host_picture_url                              24177 non-null  object \\n 21  host_neighbourhood                            11238 non-null  object \\n 22  host_listings_count                           24177 non-null  int64  \\n 23  host_total_listings_count                     24177 non-null  int64  \\n 24  host_verifications                            24177 non-null  object \\n 25  host_has_profile_pic                          24177 non-null  object \\n 26  host_identity_verified                        24177 non-null  object \\n 27  neighbourhood                                 13101 non-null  object \\n 28  neighbourhood_cleansed                        24177 non-null  object \\n 29  neighbourhood_group_cleansed                  0 non-null      float64\\n 30  latitude                                      24177 non-null  float64\\n 31  longitude                                     24177 non-null  float64\\n 32  property_type                                 24177 non-null  object \\n 33  room_type                                     24177 non-null  object \\n 34  accommodates                                  24177 non-null  int64  \\n 35  bathrooms                                     0 non-null      float64\\n 36  bathrooms_text                                24169 non-null  object \\n 37  bedrooms                                      18747 non-null  float64\\n 38  beds                                          23888 non-null  float64\\n 39  amenities                                     24177 non-null  object \\n 40  price                                         24177 non-null  object \\n 41  minimum_nights                                24177 non-null  int64  \\n 42  maximum_nights                                24177 non-null  int64  \\n 43  minimum_minimum_nights                        24177 non-null  int64  \\n 44  maximum_minimum_nights                        24177 non-null  int64  \\n 45  minimum_maximum_nights                        24177 non-null  int64  \\n 46  maximum_maximum_nights                        24177 non-null  int64  \\n 47  minimum_nights_avg_ntm                        24177 non-null  float64\\n 48  maximum_nights_avg_ntm                        24177 non-null  float64\\n 49  calendar_updated                              0 non-null      float64\\n 50  has_availability                              24177 non-null  object \\n 51  availability_30                               24177 non-null  int64  \\n 52  availability_60                               24177 non-null  int64  \\n 53  availability_90                               24177 non-null  int64  \\n 54  availability_365                              24177 non-null  int64  \\n 55  calendar_last_scraped                         24177 non-null  object \\n 56  number_of_reviews                             24177 non-null  int64  \\n 57  number_of_reviews_ltm                         24177 non-null  int64  \\n 58  number_of_reviews_l30d                        24177 non-null  int64  \\n 59  first_review                                  19396 non-null  object \\n 60  last_review                                   19396 non-null  object \\n 61  review_scores_rating                          19396 non-null  float64\\n 62  review_scores_accuracy                        19245 non-null  float64\\n 63  review_scores_cleanliness                     19243 non-null  float64\\n 64  review_scores_checkin                         19243 non-null  float64\\n 65  review_scores_communication                   19244 non-null  float64\\n 66  review_scores_location                        19242 non-null  float64\\n 67  review_scores_value                           19240 non-null  float64\\n 68  license                                       5615 non-null   object \\n 69  instant_bookable                              24177 non-null  object \\n 70  calculated_host_listings_count                24177 non-null  int64  \\n 71  calculated_host_listings_count_entire_homes   24177 non-null  int64  \\n 72  calculated_host_listings_count_private_rooms  24177 non-null  int64  \\n 73  calculated_host_listings_count_shared_rooms   24177 non-null  int64  \\n 74  reviews_per_month                             19396 non-null  float64\\n'"
      ]
     },
     "execution_count": 497,
     "metadata": {},
     "output_type": "execute_result"
    }
   ],
   "source": [
    "\"\"\"\n",
    "\n",
    " 0   id                                            24177 non-null  int64 - no need \n",
    " 1   listing_url                                   24177 non-null  object - mo nee, drop\n",
    " 2   scrape_id                                     24177 non-null  int64  - no need, drop\n",
    " 3   last_scraped                                  24177 non-null  object - no need\n",
    " 4   source                                        24177 non-null  object - no need, drop\n",
    " 5   name                                          24177 non-null  object - no need\n",
    " 6   description                                   23761 non-null  object - no need\n",
    " 7   neighborhood_overview                         13101 non-null  object - \n",
    " 8   picture_url                                   24177 non-null  object \n",
    " 9   host_id                                       24177 non-null  int64  \n",
    " 10  host_url                                      24177 non-null  object \n",
    " 11  host_name                                     24177 non-null  object \n",
    " 12  host_since                                    24177 non-null  object \n",
    " 13  host_location                                 20007 non-null  object \n",
    " 14  host_about                                    12619 non-null  object \n",
    " 15  host_response_time                            17997 non-null  object \n",
    " 16  host_response_rate                            17997 non-null  object \n",
    " 17  host_acceptance_rate                          19855 non-null  object \n",
    " 18  host_is_superhost                             23650 non-null  object \n",
    " 19  host_thumbnail_url                            24177 non-null  object \n",
    " 20  host_picture_url                              24177 non-null  object \n",
    " 21  host_neighbourhood                            11238 non-null  object \n",
    " 22  host_listings_count                           24177 non-null  int64  \n",
    " 23  host_total_listings_count                     24177 non-null  int64  \n",
    " 24  host_verifications                            24177 non-null  object \n",
    " 25  host_has_profile_pic                          24177 non-null  object \n",
    " 26  host_identity_verified                        24177 non-null  object \n",
    " 27  neighbourhood                                 13101 non-null  object \n",
    " 28  neighbourhood_cleansed                        24177 non-null  object \n",
    " 29  neighbourhood_group_cleansed                  0 non-null      float64\n",
    " 30  latitude                                      24177 non-null  float64\n",
    " 31  longitude                                     24177 non-null  float64\n",
    " 32  property_type                                 24177 non-null  object \n",
    " 33  room_type                                     24177 non-null  object \n",
    " 34  accommodates                                  24177 non-null  int64  \n",
    " 35  bathrooms                                     0 non-null      float64\n",
    " 36  bathrooms_text                                24169 non-null  object \n",
    " 37  bedrooms                                      18747 non-null  float64\n",
    " 38  beds                                          23888 non-null  float64\n",
    " 39  amenities                                     24177 non-null  object \n",
    " 40  price                                         24177 non-null  object \n",
    " 41  minimum_nights                                24177 non-null  int64  \n",
    " 42  maximum_nights                                24177 non-null  int64  \n",
    " 43  minimum_minimum_nights                        24177 non-null  int64  \n",
    " 44  maximum_minimum_nights                        24177 non-null  int64  \n",
    " 45  minimum_maximum_nights                        24177 non-null  int64  \n",
    " 46  maximum_maximum_nights                        24177 non-null  int64  \n",
    " 47  minimum_nights_avg_ntm                        24177 non-null  float64\n",
    " 48  maximum_nights_avg_ntm                        24177 non-null  float64\n",
    " 49  calendar_updated                              0 non-null      float64\n",
    " 50  has_availability                              24177 non-null  object \n",
    " 51  availability_30                               24177 non-null  int64  \n",
    " 52  availability_60                               24177 non-null  int64  \n",
    " 53  availability_90                               24177 non-null  int64  \n",
    " 54  availability_365                              24177 non-null  int64  \n",
    " 55  calendar_last_scraped                         24177 non-null  object \n",
    " 56  number_of_reviews                             24177 non-null  int64  \n",
    " 57  number_of_reviews_ltm                         24177 non-null  int64  \n",
    " 58  number_of_reviews_l30d                        24177 non-null  int64  \n",
    " 59  first_review                                  19396 non-null  object \n",
    " 60  last_review                                   19396 non-null  object \n",
    " 61  review_scores_rating                          19396 non-null  float64\n",
    " 62  review_scores_accuracy                        19245 non-null  float64\n",
    " 63  review_scores_cleanliness                     19243 non-null  float64\n",
    " 64  review_scores_checkin                         19243 non-null  float64\n",
    " 65  review_scores_communication                   19244 non-null  float64\n",
    " 66  review_scores_location                        19242 non-null  float64\n",
    " 67  review_scores_value                           19240 non-null  float64\n",
    " 68  license                                       5615 non-null   object \n",
    " 69  instant_bookable                              24177 non-null  object \n",
    " 70  calculated_host_listings_count                24177 non-null  int64  \n",
    " 71  calculated_host_listings_count_entire_homes   24177 non-null  int64  \n",
    " 72  calculated_host_listings_count_private_rooms  24177 non-null  int64  \n",
    " 73  calculated_host_listings_count_shared_rooms   24177 non-null  int64  \n",
    " 74  reviews_per_month                             19396 non-null  float64\n",
    "\"\"\""
   ]
  },
  {
   "cell_type": "code",
   "execution_count": 498,
   "metadata": {},
   "outputs": [
    {
     "data": {
      "text/plain": [
       "count    23019.000000\n",
       "mean        30.376298\n",
       "std         69.362755\n",
       "min          0.000000\n",
       "25%          1.000000\n",
       "50%          7.000000\n",
       "75%         27.000000\n",
       "max       1142.000000\n",
       "Name: number_of_reviews, dtype: float64"
      ]
     },
     "execution_count": 498,
     "metadata": {},
     "output_type": "execute_result"
    }
   ],
   "source": [
    "data['number_of_reviews'].describe()"
   ]
  },
  {
   "cell_type": "code",
   "execution_count": 499,
   "metadata": {},
   "outputs": [
    {
     "data": {
      "text/plain": [
       "1 bath               16948\n",
       "2 baths               2134\n",
       "1 shared bath         1786\n",
       "1 private bath         851\n",
       "1.5 baths              562\n",
       "2 shared baths         190\n",
       "3 baths                155\n",
       "1.5 shared baths       128\n",
       "2.5 baths              114\n",
       "4 baths                 28\n",
       "0 baths                 25\n",
       "Half-bath               23\n",
       "Shared half-bath        13\n",
       "2.5 shared baths        12\n",
       "3.5 baths               11\n",
       "5 baths                 11\n",
       "3 shared baths           7\n",
       "0 shared baths           5\n",
       "4.5 baths                2\n",
       "6 baths                  2\n",
       "Private half-bath        2\n",
       "8 baths                  1\n",
       "4 shared baths           1\n",
       "7 baths                  1\n",
       "10 baths                 1\n",
       "Name: bathrooms_text, dtype: int64"
      ]
     },
     "execution_count": 499,
     "metadata": {},
     "output_type": "execute_result"
    }
   ],
   "source": [
    "data['bathrooms_text'].value_counts()"
   ]
  },
  {
   "cell_type": "code",
   "execution_count": 500,
   "metadata": {},
   "outputs": [],
   "source": [
    "# convert bathrooms_text to float\n",
    "# def function to clean the bathroom text, split and space and set to int, if not possible set to 1\n",
    "def clean_bathroom(text):\n",
    "    try:\n",
    "        return float(text.split(\" \")[0])\n",
    "    except:\n",
    "        return text == 0.5\n",
    "\n",
    "# apply function to the column\n",
    "data[\"bathrooms\"] = data[\"bathrooms_text\"].apply(clean_bathroom)\n",
    "data.drop(columns=\"bathrooms_text\", inplace=True)"
   ]
  },
  {
   "cell_type": "code",
   "execution_count": 501,
   "metadata": {},
   "outputs": [],
   "source": [
    "for column in (\n",
    "    \"host_listings_count\",\n",
    "    \"host_total_listings_count\",\n",
    "    \"accommodates\",\n",
    "    \"bathrooms\",\n",
    "    \"bedrooms\",\n",
    "    \"beds\",\n",
    "    \"minimum_nights\",\n",
    "    \"availability_30\",\n",
    "    \"availability_60\",\n",
    "    \"availability_90\",\n",
    "    \"availability_365\",\n",
    "    \"number_of_reviews\",\n",
    "    \"number_of_reviews_ltm\",\n",
    "    \"number_of_reviews_l30d\",\n",
    "    \"review_scores_rating\",\n",
    "    \"review_scores_accuracy\",\n",
    "    \"review_scores_cleanliness\",\n",
    "    \"review_scores_checkin\",\n",
    "    \"review_scores_communication\",\n",
    "    \"review_scores_location\",\n",
    "    \"review_scores_value\",\n",
    "    \"reviews_per_month\",\n",
    "):\n",
    "    data[\"n_\" + re.sub(r\"[^[:alnum:]_]\", \"\", column.lower())] = data[column].astype(\n",
    "        \"float\"\n",
    "    )"
   ]
  },
  {
   "cell_type": "code",
   "execution_count": 502,
   "metadata": {},
   "outputs": [
    {
     "data": {
      "text/plain": [
       "count    23019.000000\n",
       "mean        30.496242\n",
       "std         94.192603\n",
       "min          0.000000\n",
       "25%          1.000000\n",
       "50%          2.000000\n",
       "75%          7.000000\n",
       "max       2534.000000\n",
       "Name: host_listings_count, dtype: float64"
      ]
     },
     "execution_count": 502,
     "metadata": {},
     "output_type": "execute_result"
    }
   ],
   "source": [
    "data[\"host_listings_count\"].describe()"
   ]
  },
  {
   "cell_type": "code",
   "execution_count": 503,
   "metadata": {},
   "outputs": [
    {
     "data": {
      "text/plain": [
       "count    23019.000000\n",
       "mean        38.390764\n",
       "std        131.404127\n",
       "min          0.000000\n",
       "1%           1.000000\n",
       "25%          1.000000\n",
       "50%          2.000000\n",
       "75%         10.000000\n",
       "95%        300.000000\n",
       "max       5292.000000\n",
       "Name: host_total_listings_count, dtype: float64"
      ]
     },
     "execution_count": 503,
     "metadata": {},
     "output_type": "execute_result"
    }
   ],
   "source": [
    "data[\"host_total_listings_count\"].describe(percentiles=[0.01, 0.25, 0.5, 0.75, 0.95])"
   ]
  },
  {
   "cell_type": "code",
   "execution_count": 504,
   "metadata": {},
   "outputs": [
    {
     "data": {
      "text/plain": [
       "within an hour        12667\n",
       "within a few hours     2296\n",
       "within a day           1599\n",
       "a few days or more      560\n",
       "Name: host_response_time, dtype: int64"
      ]
     },
     "execution_count": 504,
     "metadata": {},
     "output_type": "execute_result"
    }
   ],
   "source": [
    "data[\"host_response_time\"].value_counts()"
   ]
  },
  {
   "cell_type": "code",
   "execution_count": 505,
   "metadata": {},
   "outputs": [
    {
     "data": {
      "text/plain": [
       "100.0    8005\n",
       "99.0     2038\n",
       "0.0      1140\n",
       "98.0      643\n",
       "96.0      519\n",
       "         ... \n",
       "37.0        4\n",
       "34.0        3\n",
       "5.0         2\n",
       "1.0         1\n",
       "2.0         1\n",
       "Name: host_acceptance_rate, Length: 101, dtype: int64"
      ]
     },
     "execution_count": 505,
     "metadata": {},
     "output_type": "execute_result"
    }
   ],
   "source": [
    "data[\"host_acceptance_rate\"].value_counts()"
   ]
  },
  {
   "cell_type": "code",
   "execution_count": 506,
   "metadata": {},
   "outputs": [
    {
     "data": {
      "text/plain": [
       "f    17344\n",
       "t     5163\n",
       "Name: host_is_superhost, dtype: int64"
      ]
     },
     "execution_count": 506,
     "metadata": {},
     "output_type": "execute_result"
    }
   ],
   "source": [
    "data[\"host_is_superhost\"].value_counts()"
   ]
  },
  {
   "cell_type": "code",
   "execution_count": 507,
   "metadata": {},
   "outputs": [
    {
     "data": {
      "text/plain": [
       "t    22394\n",
       "f      625\n",
       "Name: has_availability, dtype: int64"
      ]
     },
     "execution_count": 507,
     "metadata": {},
     "output_type": "execute_result"
    }
   ],
   "source": [
    "data[\"has_availability\"].value_counts()"
   ]
  },
  {
   "cell_type": "code",
   "execution_count": 508,
   "metadata": {},
   "outputs": [
    {
     "data": {
      "text/plain": [
       "count    23019.000000\n",
       "mean         9.158608\n",
       "std          9.889172\n",
       "min          0.000000\n",
       "25%          0.000000\n",
       "50%          6.000000\n",
       "75%         17.000000\n",
       "max         30.000000\n",
       "Name: availability_30, dtype: float64"
      ]
     },
     "execution_count": 508,
     "metadata": {},
     "output_type": "execute_result"
    }
   ],
   "source": [
    "data[\"availability_30\"].describe()"
   ]
  },
  {
   "cell_type": "code",
   "execution_count": 509,
   "metadata": {},
   "outputs": [
    {
     "data": {
      "text/plain": [
       "count    18479.000000\n",
       "mean         4.647177\n",
       "std          0.623421\n",
       "min          0.000000\n",
       "25%          4.570000\n",
       "50%          4.830000\n",
       "75%          5.000000\n",
       "max          5.000000\n",
       "Name: review_scores_rating, dtype: float64"
      ]
     },
     "execution_count": 509,
     "metadata": {},
     "output_type": "execute_result"
    }
   ],
   "source": [
    "data[\"review_scores_rating\"].describe()"
   ]
  },
  {
   "cell_type": "code",
   "execution_count": 510,
   "metadata": {},
   "outputs": [
    {
     "data": {
      "text/plain": [
       "count    18479.000000\n",
       "mean         1.513610\n",
       "std          1.979256\n",
       "min          0.010000\n",
       "25%          0.210000\n",
       "50%          0.750000\n",
       "75%          2.000000\n",
       "max         28.400000\n",
       "Name: reviews_per_month, dtype: float64"
      ]
     },
     "execution_count": 510,
     "metadata": {},
     "output_type": "execute_result"
    }
   ],
   "source": [
    "data[\"reviews_per_month\"].describe()"
   ]
  },
  {
   "cell_type": "code",
   "execution_count": 511,
   "metadata": {},
   "outputs": [
    {
     "data": {
      "text/plain": [
       "count                                                 23019\n",
       "unique                                                21494\n",
       "top       [\"Washer\", \"Kitchen\", \"Air conditioning\", \"Wif...\n",
       "freq                                                     87\n",
       "Name: amenities, dtype: object"
      ]
     },
     "execution_count": 511,
     "metadata": {},
     "output_type": "execute_result"
    }
   ],
   "source": [
    "data[\"amenities\"].describe()"
   ]
  },
  {
   "cell_type": "code",
   "execution_count": 512,
   "metadata": {},
   "outputs": [
    {
     "data": {
      "text/plain": [
       "count       23019\n",
       "unique        733\n",
       "top       $100.00\n",
       "freq          732\n",
       "Name: price, dtype: object"
      ]
     },
     "execution_count": 512,
     "metadata": {},
     "output_type": "execute_result"
    }
   ],
   "source": [
    "data[\"price\"].describe(percentiles=[0.01, 0.25, 0.5, 0.75, 0.95])\n"
   ]
  },
  {
   "cell_type": "code",
   "execution_count": 513,
   "metadata": {},
   "outputs": [],
   "source": [
    "data['price']=data['price'].str.replace(\"$\",\"\")\n",
    "data['price']=data['price'].str.replace(\",\",\"\").astype('float')"
   ]
  },
  {
   "cell_type": "code",
   "execution_count": 514,
   "metadata": {},
   "outputs": [
    {
     "data": {
      "text/plain": [
       "count    23019.000000\n",
       "mean       188.050914\n",
       "std       1073.062681\n",
       "min          9.000000\n",
       "1%          25.000000\n",
       "25%         80.000000\n",
       "50%        115.000000\n",
       "75%        180.000000\n",
       "95%        400.000000\n",
       "max      90000.000000\n",
       "Name: price, dtype: float64"
      ]
     },
     "execution_count": 514,
     "metadata": {},
     "output_type": "execute_result"
    }
   ],
   "source": [
    "data[\"price\"].describe(percentiles=[0.01, 0.25, 0.5, 0.75, 0.95])"
   ]
  },
  {
   "cell_type": "code",
   "execution_count": 515,
   "metadata": {},
   "outputs": [],
   "source": [
    "data=data.loc[data.price <400]"
   ]
  },
  {
   "cell_type": "code",
   "execution_count": 516,
   "metadata": {},
   "outputs": [
    {
     "data": {
      "image/png": "[encoded data removed]",
      "text/plain": [
       "<Figure size 640x480 with 1 Axes>"
      ]
     },
     "metadata": {
      "image/png": {
       "height": 480,
       "width": 640
      }
     },
     "output_type": "display_data"
    },
    {
     "data": {
      "text/plain": [
       "<Figure Size: (640 x 480)>"
      ]
     },
     "execution_count": 516,
     "metadata": {},
     "output_type": "execute_result"
    }
   ],
   "source": [
    "(\n",
    "    ggplot(data, aes(\"price\"))\n",
    "    + geom_histogram()\n",
    ")"
   ]
  },
  {
   "cell_type": "code",
   "execution_count": 517,
   "metadata": {},
   "outputs": [],
   "source": [
    "data = pd.concat(\n",
    "    [\n",
    "        data[\n",
    "            [\n",
    "                \"price\",\n",
    "                \"id\",\n",
    "                \"neighbourhood_cleansed\",\n",
    "                \"room_type\",\n",
    "                \"property_type\",\n",
    "                \"amenities\",\n",
    "            ]\n",
    "        ],\n",
    "        data.filter(\n",
    "            regex=\"^d_.*|^n_.*|^f_.*|^p_.*|^usd_.*\",\n",
    "        ),\n",
    "    ],\n",
    "    axis=1,\n",
    ")"
   ]
  },
  {
   "cell_type": "code",
   "execution_count": 518,
   "metadata": {},
   "outputs": [
    {
     "name": "stdout",
     "output_type": "stream",
     "text": [
      "<class 'pandas.core.frame.DataFrame'>\n",
      "Int64Index: 21791 entries, 0 to 24176\n",
      "Data columns (total 34 columns):\n",
      " #   Column                         Non-Null Count  Dtype   \n",
      "---  ------                         --------------  -----   \n",
      " 0   price                          21791 non-null  float64 \n",
      " 1   id                             21791 non-null  int64   \n",
      " 2   neighbourhood_cleansed         21791 non-null  object  \n",
      " 3   room_type                      21791 non-null  object  \n",
      " 4   property_type                  21791 non-null  object  \n",
      " 5   amenities                      21791 non-null  object  \n",
      " 6   f_property_type                21791 non-null  category\n",
      " 7   f_room_type                    21791 non-null  category\n",
      " 8   f_room_type2                   21791 non-null  category\n",
      " 9   f_neighbourhood_cleansed       21791 non-null  category\n",
      " 10  p_host_response_rate           16318 non-null  float64 \n",
      " 11  p_host_acceptance_rate         17997 non-null  float64 \n",
      " 12  n_host_listings_count          21791 non-null  float64 \n",
      " 13  n_host_total_listings_count    21791 non-null  float64 \n",
      " 14  n_accommodates                 21791 non-null  float64 \n",
      " 15  n_bathrooms                    21791 non-null  float64 \n",
      " 16  n_bedrooms                     16881 non-null  float64 \n",
      " 17  n_beds                         21536 non-null  float64 \n",
      " 18  n_minimum_nights               21791 non-null  float64 \n",
      " 19  n_availability_30              21791 non-null  float64 \n",
      " 20  n_availability_60              21791 non-null  float64 \n",
      " 21  n_availability_90              21791 non-null  float64 \n",
      " 22  n_availability_365             21791 non-null  float64 \n",
      " 23  n_number_of_reviews            21791 non-null  float64 \n",
      " 24  n_number_of_reviews_ltm        21791 non-null  float64 \n",
      " 25  n_number_of_reviews_l30d       21791 non-null  float64 \n",
      " 26  n_review_scores_rating         17749 non-null  float64 \n",
      " 27  n_review_scores_accuracy       17610 non-null  float64 \n",
      " 28  n_review_scores_cleanliness    17609 non-null  float64 \n",
      " 29  n_review_scores_checkin        17609 non-null  float64 \n",
      " 30  n_review_scores_communication  17609 non-null  float64 \n",
      " 31  n_review_scores_location       17608 non-null  float64 \n",
      " 32  n_review_scores_value          17605 non-null  float64 \n",
      " 33  n_reviews_per_month            17749 non-null  float64 \n",
      "dtypes: category(4), float64(25), int64(1), object(4)\n",
      "memory usage: 5.2+ MB\n"
     ]
    }
   ],
   "source": [
    "data.info()"
   ]
  },
  {
   "cell_type": "code",
   "execution_count": 519,
   "metadata": {},
   "outputs": [],
   "source": [
    "import ast\n",
    "\n",
    "# Clean amenities column\n",
    "data['new_amenities'] = data['amenities'].apply(lambda x: ast.literal_eval(x)) \n",
    "\n",
    "# Create a list of all amenities\n",
    "all_amenities = []\n",
    "\n",
    "for lst in data['new_amenities']:\n",
    "    for amenity in lst:\n",
    "        all_amenities.append(amenity)\n",
    "\n",
    "# Create a series of the 50 most frequent amenities\n",
    "top50_amenities = pd.Series(all_amenities).value_counts().head(50)\n",
    "\n",
    "# Create a list of the top 50 amenities\n",
    "amenities_list = top50_amenities.index.tolist()\n",
    "\n",
    "# Create a variable for each top 100 amenity starting with \"d_\"\n",
    "for my_amenities in amenities_list:\n",
    "    data['d_' + my_amenities] = data['new_amenities'].apply(lambda x: 1 if my_amenities in x else 0)\n",
    "\n",
    "# Rename columns, as amenities can have spaces and uppercase characters\n",
    "data.columns = [name.replace(' ', '_').replace(\"–\",\"\").replace(\"-\",\"\").replace(\"’\",\"\").replace(\":\",\"\").replace(\"/\",\"_\").lower() for name in data.columns]\n",
    "\n",
    "# Drop the original amenities column\n",
    "data = data.drop(columns=['amenities', 'new_amenities'])"
   ]
  },
  {
   "cell_type": "code",
   "execution_count": 520,
   "metadata": {},
   "outputs": [
    {
     "name": "stdout",
     "output_type": "stream",
     "text": [
      "<class 'pandas.core.frame.DataFrame'>\n",
      "Int64Index: 21791 entries, 0 to 24176\n",
      "Data columns (total 83 columns):\n",
      " #   Column                         Non-Null Count  Dtype   \n",
      "---  ------                         --------------  -----   \n",
      " 0   price                          21791 non-null  float64 \n",
      " 1   id                             21791 non-null  int64   \n",
      " 2   neighbourhood_cleansed         21791 non-null  object  \n",
      " 3   room_type                      21791 non-null  object  \n",
      " 4   property_type                  21791 non-null  object  \n",
      " 5   f_property_type                21791 non-null  category\n",
      " 6   f_room_type                    21791 non-null  category\n",
      " 7   f_room_type2                   21791 non-null  category\n",
      " 8   f_neighbourhood_cleansed       21791 non-null  category\n",
      " 9   p_host_response_rate           16318 non-null  float64 \n",
      " 10  p_host_acceptance_rate         17997 non-null  float64 \n",
      " 11  n_host_listings_count          21791 non-null  float64 \n",
      " 12  n_host_total_listings_count    21791 non-null  float64 \n",
      " 13  n_accommodates                 21791 non-null  float64 \n",
      " 14  n_bathrooms                    21791 non-null  float64 \n",
      " 15  n_bedrooms                     16881 non-null  float64 \n",
      " 16  n_beds                         21536 non-null  float64 \n",
      " 17  n_minimum_nights               21791 non-null  float64 \n",
      " 18  n_availability_30              21791 non-null  float64 \n",
      " 19  n_availability_60              21791 non-null  float64 \n",
      " 20  n_availability_90              21791 non-null  float64 \n",
      " 21  n_availability_365             21791 non-null  float64 \n",
      " 22  n_number_of_reviews            21791 non-null  float64 \n",
      " 23  n_number_of_reviews_ltm        21791 non-null  float64 \n",
      " 24  n_number_of_reviews_l30d       21791 non-null  float64 \n",
      " 25  n_review_scores_rating         17749 non-null  float64 \n",
      " 26  n_review_scores_accuracy       17610 non-null  float64 \n",
      " 27  n_review_scores_cleanliness    17609 non-null  float64 \n",
      " 28  n_review_scores_checkin        17609 non-null  float64 \n",
      " 29  n_review_scores_communication  17609 non-null  float64 \n",
      " 30  n_review_scores_location       17608 non-null  float64 \n",
      " 31  n_review_scores_value          17605 non-null  float64 \n",
      " 32  n_reviews_per_month            17749 non-null  float64 \n",
      " 33  d_kitchen                      21791 non-null  int64   \n",
      " 34  d_essentials                   21791 non-null  int64   \n",
      " 35  d_wifi                         21791 non-null  int64   \n",
      " 36  d_hair_dryer                   21791 non-null  int64   \n",
      " 37  d_hangers                      21791 non-null  int64   \n",
      " 38  d_hot_water                    21791 non-null  int64   \n",
      " 39  d_dishes_and_silverware        21791 non-null  int64   \n",
      " 40  d_iron                         21791 non-null  int64   \n",
      " 41  d_refrigerator                 21791 non-null  int64   \n",
      " 42  d_cooking_basics               21791 non-null  int64   \n",
      " 43  d_bed_linens                   21791 non-null  int64   \n",
      " 44  d_heating                      21791 non-null  int64   \n",
      " 45  d_shampoo                      21791 non-null  int64   \n",
      " 46  d_washer                       21791 non-null  int64   \n",
      " 47  d_tv                           21791 non-null  int64   \n",
      " 48  d_air_conditioning             21791 non-null  int64   \n",
      " 49  d_bidet                        21791 non-null  int64   \n",
      " 50  d_elevator                     21791 non-null  int64   \n",
      " 51  d_dedicated_workspace          21791 non-null  int64   \n",
      " 52  d_dining_table                 21791 non-null  int64   \n",
      " 53  d_microwave                    21791 non-null  int64   \n",
      " 54  d_freezer                      21791 non-null  int64   \n",
      " 55  d_extra_pillows_and_blankets   21791 non-null  int64   \n",
      " 56  d_cleaning_products            21791 non-null  int64   \n",
      " 57  d_dishwasher                   21791 non-null  int64   \n",
      " 58  d_oven                         21791 non-null  int64   \n",
      " 59  d_body_soap                    21791 non-null  int64   \n",
      " 60  d_drying_rack_for_clothing     21791 non-null  int64   \n",
      " 61  d_shower_gel                   21791 non-null  int64   \n",
      " 62  d_coffee_maker                 21791 non-null  int64   \n",
      " 63  d_host_greets_you              21791 non-null  int64   \n",
      " 64  d_first_aid_kit                21791 non-null  int64   \n",
      " 65  d_hot_water_kettle             21791 non-null  int64   \n",
      " 66  d_wine_glasses                 21791 non-null  int64   \n",
      " 67  d_long_term_stays_allowed      21791 non-null  int64   \n",
      " 68  d_stove                        21791 non-null  int64   \n",
      " 69  d_coffee                       21791 non-null  int64   \n",
      " 70  d_self_checkin                 21791 non-null  int64   \n",
      " 71  d_roomdarkening_shades         21791 non-null  int64   \n",
      " 72  d_central_heating              21791 non-null  int64   \n",
      " 73  d_baking_sheet                 21791 non-null  int64   \n",
      " 74  d_single_level_home            21791 non-null  int64   \n",
      " 75  d_free_street_parking          21791 non-null  int64   \n",
      " 76  d_pets_allowed                 21791 non-null  int64   \n",
      " 77  d_free_washer__in_unit         21791 non-null  int64   \n",
      " 78  d_fire_extinguisher            21791 non-null  int64   \n",
      " 79  d_private_entrance             21791 non-null  int64   \n",
      " 80  d_private_patio_or_balcony     21791 non-null  int64   \n",
      " 81  d_luggage_dropoff_allowed      21791 non-null  int64   \n",
      " 82  d_books_and_reading_material   21791 non-null  int64   \n",
      "dtypes: category(4), float64(25), int64(51), object(3)\n",
      "memory usage: 13.4+ MB\n"
     ]
    }
   ],
   "source": [
    "data.info()"
   ]
  },
  {
   "cell_type": "code",
   "execution_count": 544,
   "metadata": {},
   "outputs": [
    {
     "data": {
      "text/plain": [
       "20042"
      ]
     },
     "execution_count": 544,
     "metadata": {},
     "output_type": "execute_result"
    }
   ],
   "source": [
    "data[\"id\"].count()"
   ]
  },
  {
   "cell_type": "code",
   "execution_count": 539,
   "metadata": {},
   "outputs": [
    {
     "data": {
      "text/plain": [
       "Index(['p_host_response_rate', 'p_host_acceptance_rate', 'n_bedrooms',\n",
       "       'n_beds', 'n_review_scores_rating', 'n_review_scores_accuracy',\n",
       "       'n_review_scores_cleanliness', 'n_review_scores_checkin',\n",
       "       'n_review_scores_communication', 'n_review_scores_location',\n",
       "       'n_review_scores_value', 'n_reviews_per_month'],\n",
       "      dtype='object')"
      ]
     },
     "execution_count": 539,
     "metadata": {},
     "output_type": "execute_result"
    }
   ],
   "source": [
    "# where do we have missing variables now?\n",
    "to_filter=data.isna().sum()\n",
    "to_filter[to_filter>0].index"
   ]
  },
  {
   "cell_type": "code",
   "execution_count": 542,
   "metadata": {},
   "outputs": [
    {
     "name": "stdout",
     "output_type": "stream",
     "text": [
      "p_host_response_rate             4963\n",
      "p_host_acceptance_rate           3428\n",
      "n_bedrooms                       3661\n",
      "n_beds                            196\n",
      "n_review_scores_rating           3592\n",
      "n_review_scores_accuracy         3717\n",
      "n_review_scores_cleanliness      3718\n",
      "n_review_scores_checkin          3718\n",
      "n_review_scores_communication    3718\n",
      "n_review_scores_location         3719\n",
      "n_review_scores_value            3722\n",
      "n_reviews_per_month              3592\n",
      "dtype: int64\n"
     ]
    }
   ],
   "source": [
    "# Filter the DataFrame to include only columns with missing values\n",
    "filtered_data = data[to_filter[to_filter > 0].index]\n",
    "\n",
    "# Count the number of missing values in each column of the filtered DataFrame\n",
    "empty_na_values = filtered_data.isna().sum()\n",
    "\n",
    "# Print the count of missing values in each column\n",
    "print(empty_na_values)\n"
   ]
  },
  {
   "cell_type": "code",
   "execution_count": null,
   "metadata": {},
   "outputs": [],
   "source": [
    "# first create flags for missing variables, then input with median.\n",
    "\n",
    "data = data.assign(\n",
    "    # flag for beds\n",
    "    flag_beds=np.multiply(data.beds.isna(), 1),\n",
    "    beds=data.beds.fillna(np.median(data.n_beds.dropna())),\n",
    "    # flag for bathrooms\n",
    "    flag_bathrooms=np.multiply(data.bathrooms.isna(), 1),\n",
    "    bathrooms=data.bathrooms.fillna(np.median(data.bathrooms.dropna())),\n",
    "    # flag for cleaniness reviews\n",
    "    flag_review_scores_cleanliness=np.multiply(data.review_scores_cleanliness.isna(), 1),\n",
    "    review_scores_cleanliness=data.review_scores_cleanliness.fillna(\n",
    "        np.median(data.review_scores_cleanliness.dropna())),\n",
    "    # flag for review score\n",
    "    flag_review_scores_rating=np.multiply(data.review_scores_rating.isna(), 1),\n",
    "    review_scores_rating=data.review_scores_rating.fillna(\n",
    "        np.median(data.review_scores_rating.dropna())),\n",
    "    # flag for reviews per month\n",
    "    flag_reviews_per_month=np.multiply(data.reviews_per_month.isna(), 1),\n",
    "    reviews_per_month=data.reviews_per_month.fillna(\n",
    "        np.median(data.reviews_per_month.dropna())),\n",
    "    # flag for number of reviews\n",
    "    flag_number_of_reviews=np.multiply(data.number_of_reviews.isna(), 1),\n",
    "    number_of_reviews=data.number_of_reviews.fillna(\n",
    "        np.median(data.number_of_reviews.dropna())),\n",
    "    # flag for checkin reviews\n",
    "    flag_review_scores_checkin=np.multiply(data.review_scores_checkin.isna(), 1),\n",
    "    review_scores_checkin=data.review_scores_checkin.fillna(\n",
    "        np.median(data.review_scores_checkin.dropna())),\n",
    "    # flag for communication reviews\n",
    "    flag_review_scores_communication=np.multiply(data.review_scores_communication.isna(), 1),\n",
    "    review_scores_communication=data.review_scores_communication.fillna(\n",
    "        np.median(data.review_scores_communication.dropna())),\n",
    "    # flag for location reviews\n",
    "    flag_review_scores_location=np.multiply(data.review_scores_location.isna(), 1),\n",
    "    review_scores_location=data.review_scores_location.fillna(\n",
    "        np.median(data.review_scores_location.dropna())),\n",
    "    # flag for value reviews\n",
    "    flag_review_scores_value=np.multiply(data.review_scores_value.isna(), 1),\n",
    "    review_scores_value=data.review_scores_value.fillna(\n",
    "        np.median(data.review_scores_value.dropna())),\n",
    ")"
   ]
  },
  {
   "cell_type": "code",
   "execution_count": 545,
   "metadata": {},
   "outputs": [],
   "source": [
    "data['n_review_scores_rating']=data['n_review_scores_rating'].fillna(np.nanmedian(data['n_review_scores_rating']))\n",
    "data['n_reviews_per_month']=data['n_reviews_per_month'].fillna(np.nanmedian(data['n_reviews_per_month']))"
   ]
  },
  {
   "cell_type": "code",
   "execution_count": 533,
   "metadata": {},
   "outputs": [],
   "source": [
    "## drop accomodates > 6\n",
    "data = data.loc[(data.n_accommodates <= 6) & (data.n_accommodates >= 2)]\n"
   ]
  },
  {
   "cell_type": "code",
   "execution_count": 534,
   "metadata": {},
   "outputs": [
    {
     "data": {
      "text/plain": [
       "count    20042.000000\n",
       "mean         1.101786\n",
       "std          0.303157\n",
       "min          0.000000\n",
       "1%           1.000000\n",
       "25%          1.000000\n",
       "50%          1.000000\n",
       "75%          1.000000\n",
       "95%          2.000000\n",
       "max          2.500000\n",
       "Name: n_bathrooms, dtype: float64"
      ]
     },
     "execution_count": 534,
     "metadata": {},
     "output_type": "execute_result"
    }
   ],
   "source": [
    "data[\"n_bathrooms\"].describe(percentiles=[0.01, 0.25, 0.5, 0.75, 0.95])"
   ]
  },
  {
   "cell_type": "code",
   "execution_count": 535,
   "metadata": {},
   "outputs": [],
   "source": [
    "## drop bathrooms > \n",
    "data=data.loc[data.n_bathrooms < 3]"
   ]
  },
  {
   "cell_type": "code",
   "execution_count": 536,
   "metadata": {},
   "outputs": [
    {
     "data": {
      "text/html": [
       "<div>\n",
       "<style scoped>\n",
       "    .dataframe tbody tr th:only-of-type {\n",
       "        vertical-align: middle;\n",
       "    }\n",
       "\n",
       "    .dataframe tbody tr th {\n",
       "        vertical-align: top;\n",
       "    }\n",
       "\n",
       "    .dataframe thead th {\n",
       "        text-align: right;\n",
       "    }\n",
       "</style>\n",
       "<table border=\"1\" class=\"dataframe\">\n",
       "  <thead>\n",
       "    <tr style=\"text-align: right;\">\n",
       "      <th></th>\n",
       "      <th>mean_price</th>\n",
       "    </tr>\n",
       "    <tr>\n",
       "      <th>f_room_type</th>\n",
       "      <th></th>\n",
       "    </tr>\n",
       "  </thead>\n",
       "  <tbody>\n",
       "    <tr>\n",
       "      <th>Entire home/apt</th>\n",
       "      <td>138.609220</td>\n",
       "    </tr>\n",
       "    <tr>\n",
       "      <th>Private room</th>\n",
       "      <td>88.582827</td>\n",
       "    </tr>\n",
       "    <tr>\n",
       "      <th>Shared room</th>\n",
       "      <td>58.820896</td>\n",
       "    </tr>\n",
       "  </tbody>\n",
       "</table>\n",
       "</div>"
      ],
      "text/plain": [
       "                 mean_price\n",
       "f_room_type                \n",
       "Entire home/apt  138.609220\n",
       "Private room      88.582827\n",
       "Shared room       58.820896"
      ]
     },
     "execution_count": 536,
     "metadata": {},
     "output_type": "execute_result"
    }
   ],
   "source": [
    "data.groupby([\"f_room_type\"]).agg(mean_price=(\"price\", np.mean))"
   ]
  },
  {
   "cell_type": "code",
   "execution_count": 537,
   "metadata": {},
   "outputs": [
    {
     "data": {
      "image/png": "[encoded data removed]",
      "text/plain": [
       "<Figure size 640x480 with 1 Axes>"
      ]
     },
     "metadata": {
      "image/png": {
       "height": 480,
       "width": 640
      }
     },
     "output_type": "display_data"
    },
    {
     "data": {
      "text/plain": [
       "<Figure Size: (640 x 480)>"
      ]
     },
     "execution_count": 537,
     "metadata": {},
     "output_type": "execute_result"
    }
   ],
   "source": [
    "## Boxplot of price by room type\n",
    "(\n",
    "    ggplot(data, aes(x=\"f_room_type\", y=\"price\"))\n",
    "    + stat_boxplot(\n",
    "        aes(group=\"f_room_type\"),\n",
    "        geom=\"errorbar\",\n",
    "        width=0.3,\n",
    "        color=(color[1], color[0], color[2]),\n",
    "        size=0.5,\n",
    "        na_rm=True,\n",
    "    )\n",
    "    + geom_boxplot(\n",
    "        aes(group=\"f_room_type\"),\n",
    "        color=(color[1], color[0], color[2]),\n",
    "        # fill=(color[1], color[0], color[2]),\n",
    "        size=0.5,\n",
    "        width=0.6,\n",
    "        alpha=0.3,\n",
    "        na_rm=True,\n",
    "        outlier_shape=\"\",\n",
    "    )\n",
    "    + scale_y_continuous(expand=(0.01, 0.01), limits=(0, 300), breaks=seq(0, 301, 100))\n",
    "    + labs(x=\"Room type\", y=\"Price (US dollars)\")\n",
    "    + theme_bw()\n",
    ")"
   ]
  },
  {
   "cell_type": "code",
   "execution_count": 538,
   "metadata": {},
   "outputs": [
    {
     "data": {
      "text/html": [
       "<div>\n",
       "<style scoped>\n",
       "    .dataframe tbody tr th:only-of-type {\n",
       "        vertical-align: middle;\n",
       "    }\n",
       "\n",
       "    .dataframe tbody tr th {\n",
       "        vertical-align: top;\n",
       "    }\n",
       "\n",
       "    .dataframe thead th {\n",
       "        text-align: right;\n",
       "    }\n",
       "</style>\n",
       "<table border=\"1\" class=\"dataframe\">\n",
       "  <thead>\n",
       "    <tr style=\"text-align: right;\">\n",
       "      <th></th>\n",
       "      <th>mean_price</th>\n",
       "    </tr>\n",
       "    <tr>\n",
       "      <th>n_beds</th>\n",
       "      <th></th>\n",
       "    </tr>\n",
       "  </thead>\n",
       "  <tbody>\n",
       "    <tr>\n",
       "      <th>1.0</th>\n",
       "      <td>121.180023</td>\n",
       "    </tr>\n",
       "    <tr>\n",
       "      <th>2.0</th>\n",
       "      <td>135.718234</td>\n",
       "    </tr>\n",
       "    <tr>\n",
       "      <th>3.0</th>\n",
       "      <td>158.792296</td>\n",
       "    </tr>\n",
       "    <tr>\n",
       "      <th>4.0</th>\n",
       "      <td>162.538913</td>\n",
       "    </tr>\n",
       "    <tr>\n",
       "      <th>5.0</th>\n",
       "      <td>173.318519</td>\n",
       "    </tr>\n",
       "    <tr>\n",
       "      <th>6.0</th>\n",
       "      <td>155.849315</td>\n",
       "    </tr>\n",
       "    <tr>\n",
       "      <th>7.0</th>\n",
       "      <td>282.250000</td>\n",
       "    </tr>\n",
       "    <tr>\n",
       "      <th>8.0</th>\n",
       "      <td>115.500000</td>\n",
       "    </tr>\n",
       "    <tr>\n",
       "      <th>9.0</th>\n",
       "      <td>110.000000</td>\n",
       "    </tr>\n",
       "    <tr>\n",
       "      <th>10.0</th>\n",
       "      <td>85.000000</td>\n",
       "    </tr>\n",
       "    <tr>\n",
       "      <th>13.0</th>\n",
       "      <td>249.000000</td>\n",
       "    </tr>\n",
       "    <tr>\n",
       "      <th>14.0</th>\n",
       "      <td>180.000000</td>\n",
       "    </tr>\n",
       "  </tbody>\n",
       "</table>\n",
       "</div>"
      ],
      "text/plain": [
       "        mean_price\n",
       "n_beds            \n",
       "1.0     121.180023\n",
       "2.0     135.718234\n",
       "3.0     158.792296\n",
       "4.0     162.538913\n",
       "5.0     173.318519\n",
       "6.0     155.849315\n",
       "7.0     282.250000\n",
       "8.0     115.500000\n",
       "9.0     110.000000\n",
       "10.0     85.000000\n",
       "13.0    249.000000\n",
       "14.0    180.000000"
      ]
     },
     "execution_count": 538,
     "metadata": {},
     "output_type": "execute_result"
    }
   ],
   "source": [
    "data.groupby([\"n_beds\"]).agg(mean_price=(\"price\", np.mean))"
   ]
  },
  {
   "cell_type": "code",
   "execution_count": 531,
   "metadata": {},
   "outputs": [
    {
     "data": {
      "image/png": "[encoded data removed]",
      "text/plain": [
       "<Figure size 640x480 with 1 Axes>"
      ]
     },
     "metadata": {
      "image/png": {
       "height": 480,
       "width": 640
      }
     },
     "output_type": "display_data"
    },
    {
     "data": {
      "text/plain": [
       "<Figure Size: (640 x 480)>"
      ]
     },
     "execution_count": 531,
     "metadata": {},
     "output_type": "execute_result"
    }
   ],
   "source": [
    "(\n",
    "    ggplot(\n",
    "        data,\n",
    "        aes(\n",
    "            x=\"factor(n_accommodates)\",\n",
    "            y=\"price\",\n",
    "            # fill=\"factor(f_room_type)\",\n",
    "            color=\"factor(f_room_type)\",\n",
    "        ),\n",
    "    )\n",
    "    + geom_boxplot(alpha=0.8, na_rm=True, outlier_shape=\"\", width=0.8, stat=\"boxplot\")\n",
    "    + stat_boxplot(geom=\"errorbar\", width=0.8, size=0.3, na_rm=True)\n",
    "    + scale_color_manual(name=\"\", values=(color[1], color[0]))\n",
    "    + scale_fill_manual(name=\"\", values=(color[1], color[0]))\n",
    "    + labs(x=\"Accomodates (Persons)\", y=\"Price (US dollars)\")\n",
    "    + scale_y_continuous(expand=(0.01, 0.01), limits=(0, 400), breaks=seq(0, 401, 50))\n",
    "    + theme_bw()\n",
    "    + theme(legend_position=(0.3, 0.8))\n",
    ")"
   ]
  },
  {
   "cell_type": "code",
   "execution_count": null,
   "metadata": {},
   "outputs": [],
   "source": []
  }
 ],
 "metadata": {
  "kernelspec": {
   "display_name": "base",
   "language": "python",
   "name": "python3"
  },
  "language_info": {
   "codemirror_mode": {
    "name": "ipython",
    "version": 3
   },
   "file_extension": ".py",
   "mimetype": "text/x-python",
   "name": "python",
   "nbconvert_exporter": "python",
   "pygments_lexer": "ipython3",
   "version": "3.11.4"
  }
 },
 "nbformat": 4,
 "nbformat_minor": 2
}
